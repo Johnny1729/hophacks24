{
 "cells": [
  {
   "cell_type": "code",
   "execution_count": 20,
   "metadata": {},
   "outputs": [],
   "source": [
    "import pandas as pd\n",
    "import plotly.express as px\n",
    "import plotly.graph_objects as go\n",
    "import json\n",
    "import requests\n",
    "import numpy as np\n",
    "\n",
    "token = \"pk.eyJ1Ijoiam9obm55amh1IiwiYSI6ImNsdG5ibzR3MzA0eHkycW83emZzdTgzNDEifQ.a67e8S73N6kNgSvFg7EMGg\"\n",
    "px.set_mapbox_access_token(token)"
   ]
  },
  {
   "cell_type": "code",
   "execution_count": 34,
   "metadata": {},
   "outputs": [],
   "source": [
    "# census tract svi ata\n",
    "svi_df = pd.read_csv(\"https://svi.cdc.gov/Documents/Data/2020/csv/states/Maryland.csv\")\n",
    "#filter \n",
    "svi_df = svi_df[svi_df['STATE']=='Maryland'].reset_index()\n",
    "# svi_df = svi_df[svi_df['COUNTY']=='Baltimore City'].reset_index()\n",
    "# svi_df = svi_df[svi_df['COUNTY']=m\n",
    "\n",
    "groceryStores = pd.read_csv(\"https://opendata.arcgis.com/api/v3/datasets/85924b7086ef4506b4f2240d282a54c0_0/downloads/data?format=csv&spatialRefId=2248&where=1%3D1\")\n"
   ]
  },
  {
   "cell_type": "code",
   "execution_count": null,
   "metadata": {},
   "outputs": [],
   "source": [
    "svi_dff"
   ]
  },
  {
   "cell_type": "code",
   "execution_count": 40,
   "metadata": {},
   "outputs": [],
   "source": [
    "# maryland boundary geojson\n",
    "response = requests.get('https://opendata.arcgis.com/api/v3/datasets/2cb6e7dfc87047ccaa38f59d955d907b_2/downloads/data?format=geojson&spatialRefId=4326&where=1%3D1')\n",
    "tracts = json.loads(response.text)\n",
    "\n",
    "filtered_features = [feature for feature in tracts[\"features\"] if feature[\"properties\"][\"COUNTYFP20\"] == '510']\n",
    "tracts[\"features\"] = filtered_features"
   ]
  },
  {
   "cell_type": "code",
   "execution_count": null,
   "metadata": {},
   "outputs": [],
   "source": [
    "fig = px.choropleth_mapbox(svi_df, geojson=tracts, locations='FIPS', featureidkey='properties.GEOID20', color='RPL_THEMES', #EP_Noveh: veh percent,  RPL_THEMES: svi percentile\n",
    "                           color_continuous_scale=\"matter\",\n",
    "                           range_color=(0, 1),\n",
    "                        #    mapbox_style=\"dark\",\n",
    "                           zoom=10.5, center = {\"lat\": 39.29, \"lon\": -76.62},\n",
    "                           opacity=0.85,\n",
    "                           hover_data = ['COUNTY', \"RPL_THEMES\", \"EP_NOVEH\"],\n",
    "                           labels={'RPL_THEMES':'SVI National Percentile', 'EP_NOVEH':'%Household without vehichles'},\n",
    "                           width = 800,\n",
    "                           height=800\n",
    "                          )\n",
    "# fig.update_layout(margin={\"r\":0,\"t\":30,\"l\":0,\"b\":0}, title = \"Baltimore City\")\n",
    "# fig = fig.update_traces(\n",
    "#     marker_line_width=0.1\n",
    "# )\n",
    "\n",
    "groceryTrace = px.scatter_mapbox(\n",
    "    data_frame=groceryStores,\n",
    "    opacity=1,\n",
    "    hover_name = 'storename',\n",
    "    lat='latitude',\n",
    "    lon='longitude',\n",
    "    text='address'\n",
    ")\n",
    "groceryTrace.update_traces(mode = \"markers\", marker = dict(color='#34eb64', size=10))\n",
    "\n",
    "fig.add_trace(groceryTrace.data[0])\n",
    "\n",
    "# fig.show()\n",
    "fig.show()"
   ]
  },
  {
   "cell_type": "code",
   "execution_count": 25,
   "metadata": {},
   "outputs": [],
   "source": [
    "import math\n",
    "#thanks chatgpt\n",
    "def haversine_distance(lat1, lon1, lat2, lon2):\n",
    "    # distance between latitudes\n",
    "    # and longitudes\n",
    "    dLat = (lat2 - lat1) * math.pi / 180.0\n",
    "    dLon = (lon2 - lon1) * math.pi / 180.0\n",
    "\n",
    "    # convert to radians\n",
    "    lat1 = (lat1) * math.pi / 180.0\n",
    "    lat2 = (lat2) * math.pi / 180.0\n",
    "\n",
    "    # apply formulae\n",
    "    a = (pow(math.sin(dLat / 2), 2) +\n",
    "         pow(math.sin(dLon / 2), 2) *\n",
    "             math.cos(lat1) * math.cos(lat2));\n",
    "    rad = 3958.8\n",
    "    c = 2 * math.asin(math.sqrt(a))\n",
    "    return rad * c"
   ]
  },
  {
   "cell_type": "code",
   "execution_count": 27,
   "metadata": {},
   "outputs": [],
   "source": [
    "def dist_to_closest_grocery(lat, lon):\n",
    "  return min([haversine_distance(lat, lon, groc_lat,groc_lon) for groc_lat,groc_lon in zip(groceryStores['latitude'], groceryStores['longitude'])])"
   ]
  },
  {
   "cell_type": "code",
   "execution_count": 39,
   "metadata": {},
   "outputs": [],
   "source": [
    "tracts_ID = [feature['properties']['GEOID20'] for feature in tracts['features']]\n",
    "tracts_lat = pd.to_numeric([feature['properties']['INTPTLAT20'] for feature in tracts['features']])\n",
    "tracts_lon = pd.to_numeric([feature['properties']['INTPTLON20'] for feature in tracts['features']])\n",
    "tracts_locations = pd.DataFrame({'FIPS': tracts_ID, 'lat': tracts_lat, 'lon': tracts_lon})\n",
    "# tracts_locations['FIPS']= tracts_locations['FIPS'].astype(int)\n",
    "tracts_locations[\"dist_to_groc\"] = tracts_locations.apply(lambda x : dist_to_closest_grocery(x['lat'], x['lon']), axis=1)"
   ]
  },
  {
   "cell_type": "code",
   "execution_count": null,
   "metadata": {},
   "outputs": [],
   "source": []
  }
 ],
 "metadata": {
  "kernelspec": {
   "display_name": "venv",
   "language": "python",
   "name": "python3"
  },
  "language_info": {
   "codemirror_mode": {
    "name": "ipython",
    "version": 3
   },
   "file_extension": ".py",
   "mimetype": "text/x-python",
   "name": "python",
   "nbconvert_exporter": "python",
   "pygments_lexer": "ipython3",
   "version": "3.10.10"
  }
 },
 "nbformat": 4,
 "nbformat_minor": 2
}
